{
  "nbformat": 4,
  "nbformat_minor": 0,
  "metadata": {
    "colab": {
      "provenance": [],
      "authorship_tag": "ABX9TyOg1RXqP8zRmetf/4ndbDm+",
      "include_colab_link": true
    },
    "kernelspec": {
      "name": "python3",
      "display_name": "Python 3"
    },
    "language_info": {
      "name": "python"
    }
  },
  "cells": [
    {
      "cell_type": "markdown",
      "metadata": {
        "id": "view-in-github",
        "colab_type": "text"
      },
      "source": [
        "<a href=\"https://colab.research.google.com/github/DmitryAlexandrovv/infopoisk/blob/master/task1/crauler.ipynb\" target=\"_parent\"><img src=\"https://colab.research.google.com/assets/colab-badge.svg\" alt=\"Open In Colab\"/></a>"
      ]
    },
    {
      "cell_type": "code",
      "execution_count": 11,
      "metadata": {
        "colab": {
          "base_uri": "https://localhost:8080/"
        },
        "id": "QjrsFVqnn3Dv",
        "outputId": "ebf5c6ac-76ef-4a60-c752-707594d7d499"
      },
      "outputs": [
        {
          "output_type": "stream",
          "name": "stdout",
          "text": [
            "Drive already mounted at /content/drive; to attempt to forcibly remount, call drive.mount(\"/content/drive\", force_remount=True).\n"
          ]
        }
      ],
      "source": [
        "import urllib\n",
        "from bs4 import BeautifulSoup\n",
        "import re\n",
        "from google.colab import drive\n",
        "drive.mount('/content/drive')\n",
        "\n",
        "page = 'https://lifehacker.ru'\n",
        "links = []\n",
        "\n",
        "try:\n",
        "    c = urllib.request.urlopen(page)\n",
        "    soup = BeautifulSoup(c.read())\n",
        "\n",
        "    for a in soup.find_all('a', href=True):\n",
        "        if (len(links) == 100):\n",
        "            break\n",
        "        if (re.search(r'^https?://', a['href'])):\n",
        "            links.append(a['href'])\n",
        "        else:\n",
        "            links.append(page + a['href'])\n",
        "except:\n",
        "    print( \"Could not open %s\" % page)\n",
        "\n",
        "with open('drive/MyDrive/dz/index.txt', 'w') as writefile:\n",
        "    for i in range(len(links)):\n",
        "        writefile.write(links[i] + '\\n')\n",
        "\n",
        "for i in range(len(links)):\n",
        "    with open('drive/MyDrive/dz/pages/page' + str(i) + '.html', 'w') as writefile:\n",
        "        c = urllib.request.urlopen(page)\n",
        "        soup = BeautifulSoup(c.read())\n",
        "        writefile.write(str(soup))\n",
        "    "
      ]
    }
  ]
}