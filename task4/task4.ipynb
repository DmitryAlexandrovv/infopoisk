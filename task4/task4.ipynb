{
  "cells": [
    {
      "cell_type": "markdown",
      "metadata": {
        "id": "view-in-github",
        "colab_type": "text"
      },
      "source": [
        "<a href=\"https://colab.research.google.com/github/DmitryAlexandrovv/infopoisk/blob/master/task4/task4.ipynb\" target=\"_parent\"><img src=\"https://colab.research.google.com/assets/colab-badge.svg\" alt=\"Open In Colab\"/></a>"
      ]
    },
    {
      "cell_type": "code",
      "source": [
        "!pip install pymorphy2"
      ],
      "metadata": {
        "colab": {
          "base_uri": "https://localhost:8080/"
        },
        "id": "h8FLuL2m0Vy3",
        "outputId": "d2ec8088-0e9a-4135-8835-362b475bc637"
      },
      "execution_count": 4,
      "outputs": [
        {
          "output_type": "stream",
          "name": "stdout",
          "text": [
            "Looking in indexes: https://pypi.org/simple, https://us-python.pkg.dev/colab-wheels/public/simple/\n",
            "Requirement already satisfied: pymorphy2 in /usr/local/lib/python3.9/dist-packages (0.9.1)\n",
            "Requirement already satisfied: pymorphy2-dicts-ru<3.0,>=2.4 in /usr/local/lib/python3.9/dist-packages (from pymorphy2) (2.4.417127.4579844)\n",
            "Requirement already satisfied: docopt>=0.6 in /usr/local/lib/python3.9/dist-packages (from pymorphy2) (0.6.2)\n",
            "Requirement already satisfied: dawg-python>=0.7.1 in /usr/local/lib/python3.9/dist-packages (from pymorphy2) (0.7.2)\n"
          ]
        }
      ]
    },
    {
      "cell_type": "code",
      "execution_count": 11,
      "metadata": {
        "colab": {
          "base_uri": "https://localhost:8080/"
        },
        "id": "nIvHqDy7YGu5",
        "outputId": "c713a08d-fa61-4b1e-c144-8976df8c4a5d"
      },
      "outputs": [
        {
          "output_type": "stream",
          "name": "stdout",
          "text": [
            "Drive already mounted at /content/drive; to attempt to forcibly remount, call drive.mount(\"/content/drive\", force_remount=True).\n"
          ]
        }
      ],
      "source": [
        "import math\n",
        "import string\n",
        "import pymorphy2\n",
        "from bs4 import BeautifulSoup\n",
        "from google.colab import drive\n",
        "drive.mount('/content/drive')\n",
        "\n",
        "def pos(word, morth=pymorphy2.MorphAnalyzer()):\n",
        "    return morth.parse(word)[0].tag.POS\n",
        "\n",
        "def get_text_from_html(html):\n",
        "    soup = BeautifulSoup(data, features=\"html.parser\")\n",
        "\n",
        "    for script in soup([\"script\", \"style\"]):\n",
        "        script.extract()    # rip it out\n",
        "\n",
        "    text = soup.get_text(' ')\n",
        "    lines = (line.strip() for line in text.splitlines())\n",
        "    chunks = (phrase.strip() for line in lines for phrase in line.split(\"  \"))\n",
        "    text = '\\n'.join(chunk for chunk in chunks if chunk)\n",
        "\n",
        "    # Убираем предлоги и союзы, знаки препинания\n",
        "    words = text.split()\n",
        "    functors_pos = {'CONJ', 'PREP'}  # function words\n",
        "    tt = str.maketrans(dict.fromkeys(string.punctuation))\n",
        "    prepared_text = ' '.join([word for word in words if pos(word) not in functors_pos]).translate(tt)\n",
        "\n",
        "    return prepared_text\n",
        "\n",
        "tokens_file = open('drive/MyDrive/dz/tokens.txt', 'r')\n",
        "lemmas_file = open('drive/MyDrive/dz/lemmas.txt', 'r')\n",
        "lemmas_lines = lemmas_file.readlines()\n",
        "lines = tokens_file.readlines()\n",
        "dictionary_tokens = {}\n",
        "dictionary_lemmas = {}\n",
        "\n",
        "files_content = {}\n",
        "\n",
        "for i in range(100):\n",
        "    with open('drive/MyDrive/dz/pages/page' + str(i) + '.html', 'r') as file:\n",
        "        data = file.read()\n",
        "        text = get_text_from_html(data)\n",
        "\n",
        "        files_content.update({str(i): text})\n",
        "\n",
        "for line in lemmas_lines:\n",
        "    lemma = line.strip().partition(': ')[0]\n",
        "    forms = line.strip().partition(': ')[2]\n",
        "    pages_count_with_lemma = 0\n",
        "    \n",
        "    for file in files_content:\n",
        "        text = files_content.get(file)\n",
        "        words_count = len(text.split(' '))\n",
        "        forms_count = 0\n",
        "\n",
        "        for form in forms:\n",
        "            if text.lower().find(form) != -1 and len(form.strip()) > 0:\n",
        "                forms_count += 1\n",
        "                break\n",
        "\n",
        "        for form in forms.partition(' '):\n",
        "            if text.lower().find(form) != -1 and len(form.strip()) > 0:\n",
        "                pages_count_with_lemma += 1\n",
        "                break\n",
        "\n",
        "        \n",
        "        if (dictionary_lemmas.get(file)):\n",
        "            dictionary_lemmas.get(file).update({lemma: {\"forms_count\": forms_count, \"words_count\": words_count, 'pages_count_with_lemma': pages_count_with_lemma}})\n",
        "        else:\n",
        "            dictionary_lemmas.update({file: {lemma: {\"forms_count\": forms_count, \"words_count\": words_count, 'pages_count_with_lemma': pages_count_with_lemma}}})\n",
        "\n",
        "for line in lines:\n",
        "    token = line.strip()\n",
        "    pages_count_with_token = 0\n",
        "\n",
        "    for file in files_content:\n",
        "        text = files_content.get(file)\n",
        "        if (text.lower().find(token) != -1):\n",
        "            pages_count_with_token += 1\n",
        "\n",
        "    for file in files_content:\n",
        "        text = files_content.get(file)\n",
        "        count = text.lower().count(token)\n",
        "        words_count = len(text.split(' '))\n",
        "\n",
        "        if (dictionary_tokens.get(file)):\n",
        "            dictionary_tokens.get(file).update({token: {'count': count, 'words_count': words_count, \"pages_count_with_token\": pages_count_with_token}})\n",
        "        else:\n",
        "            dictionary_tokens.update({file: {token: {'count': count, 'words_count': words_count, \"pages_count_with_token\": pages_count_with_token}}})\n",
        "\n",
        "tokens_output = 'drive/MyDrive/dz/tokens_tf_idf/'\n",
        "lemmas_output = 'drive/MyDrive/dz/lemmas_tf_idf/'\n",
        "\n",
        "for value in dictionary_tokens:\n",
        "    tokens = dictionary_tokens.get(value)\n",
        "    \n",
        "    with open(tokens_output + 'page-' + value + '.txt', 'w') as writefile:\n",
        "        for token in tokens:\n",
        "            idf = math.log2(100 / tokens.get(token).get('pages_count_with_token'))\n",
        "            tf = tokens.get(token).get('count') / tokens.get(token).get('words_count')\n",
        "            writefile.write(token + \" \" + str(idf) + \" \" + str(tf * idf) + \"\\n\")\n",
        "\n",
        "for value in dictionary_lemmas:\n",
        "    lemmas = dictionary_lemmas.get(value)\n",
        "    with open(lemmas_output + 'page-' + value + '.txt', 'w') as writefile:\n",
        "        for lemma in lemmas:\n",
        "            if (lemmas.get(lemma).get('pages_count_with_lemma') == 0):\n",
        "                idf = 0.0\n",
        "            else:\n",
        "                idf = math.log2(100 / lemmas.get(lemma).get('pages_count_with_lemma'))\n",
        "\n",
        "            tf = lemmas.get(lemma).get('forms_count') / lemmas.get(lemma).get('words_count')\n",
        "            writefile.write(lemma + \" \" + str(idf) + \" \" + str(tf * idf) + \"\\n\")\n"
      ]
    }
  ],
  "metadata": {
    "colab": {
      "provenance": [],
      "authorship_tag": "ABX9TyPcp6YQszrjQ7CXYDMhCY2j",
      "include_colab_link": true
    },
    "kernelspec": {
      "display_name": "Python 3",
      "name": "python3"
    },
    "language_info": {
      "name": "python"
    }
  },
  "nbformat": 4,
  "nbformat_minor": 0
}